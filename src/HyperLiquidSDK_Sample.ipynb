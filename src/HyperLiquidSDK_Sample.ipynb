{
 "cells": [
  {
   "cell_type": "code",
   "execution_count": 1,
   "metadata": {},
   "outputs": [
    {
     "name": "stdout",
     "output_type": "stream",
     "text": [
      "{'marginSummary': {'accountValue': '0.0', 'totalNtlPos': '0.0', 'totalRawUsd': '0.0', 'totalMarginUsed': '0.0'}, 'crossMarginSummary': {'accountValue': '0.0', 'totalNtlPos': '0.0', 'totalRawUsd': '0.0', 'totalMarginUsed': '0.0'}, 'crossMaintenanceMarginUsed': '0.0', 'withdrawable': '0.0', 'assetPositions': [], 'time': 1735980189873}\n"
     ]
    }
   ],
   "source": [
    "from hyperliquid.info import Info\n",
    "from hyperliquid.utils import constants\n",
    "\n",
    "info = Info(constants.TESTNET_API_URL, skip_ws=True)\n",
    "user_state = info.user_state(\"0xfae95f601f3a25ace60d19dbb929f2a5c57e3571\")\n",
    "print(user_state)"
   ]
  }
 ],
 "metadata": {
  "kernelspec": {
   "display_name": ".venv",
   "language": "python",
   "name": "python3"
  },
  "language_info": {
   "codemirror_mode": {
    "name": "ipython",
    "version": 3
   },
   "file_extension": ".py",
   "mimetype": "text/x-python",
   "name": "python",
   "nbconvert_exporter": "python",
   "pygments_lexer": "ipython3",
   "version": "3.11.4"
  }
 },
 "nbformat": 4,
 "nbformat_minor": 2
}
